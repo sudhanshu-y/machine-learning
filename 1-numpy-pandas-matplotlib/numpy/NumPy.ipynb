{
 "cells": [
  {
   "cell_type": "markdown",
   "id": "f815244d",
   "metadata": {},
   "source": [
    "## NumPy (Numerical Python) \n",
    "    Python library used to work with numerical data.\n",
    "\n",
    "    mean               : the average of the values\n",
    "    median             : the middle value. If there are even no of element then median is average of those two median values\n",
    "    standard deviation : the measure of spread\n",
    "\n",
    "    A low standard deviation indicates that the values tend to be close to the mean of the set\n",
    "    high standard deviation indicates that the values are spread out over a wider range\n",
    "    One standard deviation: mean-SD to mean+SD\n",
    "    \n",
    "    NumPy arrays are homogeneous, meaning they can contain only a single data type\n",
    "    While lists can contain multiple different types of data."
   ]
  },
  {
   "cell_type": "code",
   "execution_count": 1,
   "id": "7969f4a6",
   "metadata": {},
   "outputs": [],
   "source": [
    "import numpy as np "
   ]
  },
  {
   "cell_type": "code",
   "execution_count": 2,
   "id": "7b4c96a8",
   "metadata": {},
   "outputs": [
    {
     "name": "stdout",
     "output_type": "stream",
     "text": [
      "[1 2 3 4]\n",
      "3\n"
     ]
    }
   ],
   "source": [
    "x = np.array([1, 2, 3, 4])\n",
    "print(x) \n",
    "print(x[2])"
   ]
  },
  {
   "cell_type": "markdown",
   "id": "ea09c802",
   "metadata": {},
   "source": [
    "    ndim returns the number of dimensions of the array\n",
    "    size returns the total number of elements of the array\n",
    "    shape returns a tuple of integers that indicate the number of elements stored along each dimension of the array"
   ]
  },
  {
   "cell_type": "code",
   "execution_count": 3,
   "id": "9b75be6b",
   "metadata": {},
   "outputs": [
    {
     "name": "stdout",
     "output_type": "stream",
     "text": [
      "2\n",
      "9\n",
      "(3, 3)\n"
     ]
    }
   ],
   "source": [
    "x = np.array([[1, 2, 3], [4, 5, 6], [7, 8, 9]]) \n",
    "print(x.ndim)\n",
    "print(x.size)\n",
    "print(x.shape)"
   ]
  },
  {
   "cell_type": "markdown",
   "id": "764f364d",
   "metadata": {},
   "source": [
    "### append, delete, sort, arange"
   ]
  },
  {
   "cell_type": "code",
   "execution_count": 4,
   "id": "3f44543d",
   "metadata": {},
   "outputs": [
    {
     "name": "stdout",
     "output_type": "stream",
     "text": [
      "[ 2  1  3 -1  8]\n",
      "[ 2  1  3 -1  8  4]\n",
      "[ 1  3 -1  8  4]\n",
      "[-1  1  3  4  8]\n"
     ]
    }
   ],
   "source": [
    "x = np.array([2, 1, 3, -1, 8])\n",
    "print(x)\n",
    "\n",
    "x = np.append(x, 4)\n",
    "print(x)\n",
    "\n",
    "x = np.delete(x, 0)\n",
    "print(x)\n",
    "\n",
    "x = np.sort(x)\n",
    "print(x)"
   ]
  },
  {
   "cell_type": "markdown",
   "id": "1c30d228",
   "metadata": {},
   "source": [
    "### arange"
   ]
  },
  {
   "cell_type": "code",
   "execution_count": 5,
   "id": "68265202",
   "metadata": {},
   "outputs": [
    {
     "name": "stdout",
     "output_type": "stream",
     "text": [
      "[ 0  5 10 15 20 25 30 35 40 45 50 55 60 65 70 75 80 85 90 95]\n"
     ]
    }
   ],
   "source": [
    "x = np.arange(0, 100, 5)\n",
    "print(x)"
   ]
  },
  {
   "cell_type": "markdown",
   "id": "336eaab5",
   "metadata": {},
   "source": [
    "### reshape\n",
    "    number of elements should be same as original array"
   ]
  },
  {
   "cell_type": "code",
   "execution_count": 6,
   "id": "193ac301",
   "metadata": {},
   "outputs": [
    {
     "name": "stdout",
     "output_type": "stream",
     "text": [
      "[[1 2]\n",
      " [3 4]\n",
      " [5 6]]\n"
     ]
    }
   ],
   "source": [
    "x = np.arange(1, 7)\n",
    "y = x.reshape(3, 2)\n",
    "print(y)"
   ]
  },
  {
   "cell_type": "markdown",
   "id": "0b3248d8",
   "metadata": {},
   "source": [
    "### Indexing and Slicing: data[from:to]\n"
   ]
  },
  {
   "cell_type": "code",
   "execution_count": 7,
   "id": "31c8b032",
   "metadata": {},
   "outputs": [
    {
     "name": "stdout",
     "output_type": "stream",
     "text": [
      "[0 1 2 3 4 5 6 7 8 9]\n",
      "[0 1]\n",
      "[5 6 7 8 9]\n",
      "[0 1 2 3 4 5 6]\n",
      "[6 7 8 9]\n"
     ]
    }
   ],
   "source": [
    "# 1-D Slicing\n",
    "x = np.arange(0, 10)\n",
    "print(x)\n",
    "\n",
    "print(x[0:2])\n",
    "print(x[5:])\n",
    "print(x[:7])\n",
    "print(x[-4:])"
   ]
  },
  {
   "cell_type": "code",
   "execution_count": 8,
   "id": "1d3d5135",
   "metadata": {},
   "outputs": [
    {
     "name": "stdout",
     "output_type": "stream",
     "text": [
      "data: \n",
      " [[11 22 33]\n",
      " [44 55 66]\n",
      " [77 88 99]]\n",
      "X: \n",
      " [[11 22]\n",
      " [44 55]\n",
      " [77 88]]\n",
      "y: \n",
      " [33 66 99]\n"
     ]
    }
   ],
   "source": [
    "# 2-D Slicing \n",
    "\n",
    "data = np.array([\n",
    "[11, 22, 33],\n",
    "[44, 55, 66],\n",
    "[77, 88, 99]])\n",
    "print('data: \\n',data)\n",
    "\n",
    "# split input-output\n",
    "X, y = data[:, :-1], data[:, -1]            # data[all_ros_of_data, all_column_except_last_one]\n",
    "print('X: \\n',X)\n",
    "print('y: \\n',y)"
   ]
  },
  {
   "cell_type": "code",
   "execution_count": 9,
   "id": "b6c83618",
   "metadata": {},
   "outputs": [
    {
     "name": "stdout",
     "output_type": "stream",
     "text": [
      "data: \n",
      " [[11 22 33]\n",
      " [44 55 66]\n",
      " [77 88 99]]\n",
      "train\n",
      " [[11 22 33]\n",
      " [44 55 66]]\n",
      "test\n",
      " [[77 88 99]]\n"
     ]
    }
   ],
   "source": [
    "# split train and test data\n",
    "\n",
    "data = np.array([\n",
    "[11, 22, 33],\n",
    "[44, 55, 66],\n",
    "[77, 88, 99]])\n",
    "print('data: \\n',data)\n",
    "\n",
    "split = 2\n",
    "\n",
    "train,test = data[:split,:],data[split:,:]\n",
    "print('train\\n',train)\n",
    "print('test\\n',test)"
   ]
  },
  {
   "cell_type": "markdown",
   "id": "92077ce5",
   "metadata": {},
   "source": [
    "### Conditions\n",
    "    () us must and operator has to be bitwise only "
   ]
  },
  {
   "cell_type": "code",
   "execution_count": 10,
   "id": "c48afb4a",
   "metadata": {},
   "outputs": [
    {
     "name": "stdout",
     "output_type": "stream",
     "text": [
      "[1 2 3 4 5 6 7 8 9]\n",
      "[1 2 3 4 5 6]\n",
      "[4 6 8]\n"
     ]
    }
   ],
   "source": [
    "x = np.arange(1, 10)\n",
    "print(x)\n",
    "\n",
    "print(x[x<7])\n",
    "print(x[(x>3) & (x%2==0)])"
   ]
  },
  {
   "cell_type": "markdown",
   "id": "772d1e12",
   "metadata": {},
   "source": [
    "### Statistics"
   ]
  },
  {
   "cell_type": "code",
   "execution_count": 11,
   "id": "8112c48c",
   "metadata": {},
   "outputs": [
    {
     "name": "stdout",
     "output_type": "stream",
     "text": [
      "[0 1 2 3 4 5 6 7 8 9]\n",
      "sum:  45\n",
      "mean:  4.5\n",
      "median:  4.5\n",
      "var:  8.25\n",
      "std:  2.8722813232690143\n",
      "2*x:  [ 0  2  4  6  8 10 12 14 16 18]\n"
     ]
    }
   ],
   "source": [
    "x = np.arange(0, 10)\n",
    "print(x)\n",
    "\n",
    "print('sum: ',x.sum()) \n",
    "\n",
    "print('mean: ',np.mean(x))\n",
    "print('median: ',np.median(x))\n",
    "print('var: ',np.var(x))\n",
    "print('std: ',np.std(x))\n",
    "\n",
    "print('2*x: ',2*x)"
   ]
  },
  {
   "cell_type": "markdown",
   "id": "bb7d8069",
   "metadata": {},
   "source": [
    "## row & column wise statics"
   ]
  },
  {
   "cell_type": "code",
   "execution_count": 12,
   "id": "27dd6fb8",
   "metadata": {},
   "outputs": [
    {
     "name": "stdout",
     "output_type": "stream",
     "text": [
      "[[1 2 3 4 5 6]\n",
      " [1 2 3 4 5 6]]\n",
      "mean\n",
      "[1. 2. 3. 4. 5. 6.]\n",
      "[3.5 3.5]\n",
      "var\n",
      "[0. 0. 0. 0. 0. 0.]\n",
      "[2.91666667 2.91666667]\n"
     ]
    }
   ],
   "source": [
    "M = np.array([\n",
    "[1,2,3,4,5,6],\n",
    "[1,2,3,4,5,6]])\n",
    "print(M)\n",
    "\n",
    "print('mean')\n",
    "print(np.mean(M, axis=0))\n",
    "print(np.mean(M, axis=1))\n",
    "\n",
    "print('var')\n",
    "print(np.var(M, axis=0))\n",
    "print(np.var(M, axis=1))"
   ]
  },
  {
   "cell_type": "markdown",
   "id": "3d039688",
   "metadata": {},
   "source": [
    "### Array Broadcasting"
   ]
  },
  {
   "cell_type": "code",
   "execution_count": 13,
   "id": "b6175b33",
   "metadata": {},
   "outputs": [
    {
     "name": "stdout",
     "output_type": "stream",
     "text": [
      "X=  [3 4 5]\n"
     ]
    }
   ],
   "source": [
    "X = np.array([1, 2, 3]) + 2\n",
    "print('X= ',X)"
   ]
  },
  {
   "cell_type": "code",
   "execution_count": 14,
   "id": "8ce853f7",
   "metadata": {},
   "outputs": [
    {
     "name": "stdout",
     "output_type": "stream",
     "text": [
      "[[2 2 2]\n",
      " [4 2 0]]\n"
     ]
    }
   ],
   "source": [
    "A = np.array([\n",
    "[1, 2, 3],\n",
    "[3, 2, 1]])\n",
    "\n",
    "B = np.array([1, 0, -1])\n",
    "\n",
    "print(A+B)"
   ]
  },
  {
   "cell_type": "markdown",
   "id": "0acedfc4",
   "metadata": {},
   "source": [
    "### Vector Operations\n",
    "    Dot product of two vector is scalar uantity"
   ]
  },
  {
   "cell_type": "code",
   "execution_count": 15,
   "id": "f3f31e59",
   "metadata": {},
   "outputs": [
    {
     "name": "stdout",
     "output_type": "stream",
     "text": [
      "a =  [1 2 3]\n",
      "b =  [1 2 3]\n",
      "ka =  [0.5 1.  1.5]\n",
      "c = a+b =  [2 4 6]\n",
      "d = a-b =  [0 0 0]\n",
      "e = a*b =  [1 4 9]\n",
      "f = a/b =  [1. 1. 1.]\n",
      "g = a//b =  [1 1 1]\n",
      "Dot Product\n",
      "i = a.b =  14\n",
      "i = b.a =  14\n"
     ]
    }
   ],
   "source": [
    "a = np.array([1, 2, 3])\n",
    "b = np.array([1, 2, 3])\n",
    "\n",
    "ka = 0.5 * a\n",
    "c = a + b \n",
    "d = a - b \n",
    "e = a * b           # element wise multiplication not matrix multiplication \n",
    "f = a / b           # element wise division \n",
    "g = a // b\n",
    "\n",
    "print('a = ', a)\n",
    "print('b = ', b)\n",
    "\n",
    "print('ka = ', ka)\n",
    "\n",
    "print('c = a+b = ', c)\n",
    "print('d = a-b = ', d)\n",
    "print('e = a*b = ', e)\n",
    "print('f = a/b = ', f)\n",
    "print('g = a//b = ', g)\n",
    "\n",
    "print('Dot Product')\n",
    "i = a.dot(b)\n",
    "print('i = a.b = ', i)\n",
    "print('i = b.a = ', b.dot(a))"
   ]
  },
  {
   "cell_type": "markdown",
   "id": "e34719b6",
   "metadata": {},
   "source": [
    "### Vector Norms\n",
    "    L1 norm : sum of the absolute values of the vector. ||v||1 = |a1| + |a2| + |a3| \n",
    "    L2 norm : square root of the sum of the squared vector values . ||v||2 = ( a1^2 + a2^2 + a3^2 )^0.5\n",
    "    max norm : maximum vector values.  ||v||inf = max( |a1|, |a2|, |a3|)\n",
    "    \n",
    "    The length of a vector can be calculated using the maximum norm"
   ]
  },
  {
   "cell_type": "code",
   "execution_count": 16,
   "id": "38ee6c62",
   "metadata": {},
   "outputs": [
    {
     "name": "stdout",
     "output_type": "stream",
     "text": [
      "a =  [ 1 -5  3]\n",
      "L1 norm:  9.0\n",
      "L2 norm:  5.916079783099616\n",
      "aLdefault norm:  5.916079783099616\n",
      "Max norm aMinf:  5.0\n"
     ]
    }
   ],
   "source": [
    "a = np.array([1, -5, 3])\n",
    "\n",
    "aL1 = np.linalg.norm(a,1)\n",
    "aL2 = np.linalg.norm(a,2)              # or np.norm(a) as 2 is default parameter \n",
    "aLdefault = np.linalg.norm(a)\n",
    "aMinf = np.linalg.norm(a, np.inf)\n",
    "\n",
    "print('a = ',a)\n",
    "print('L1 norm: ', aL1)\n",
    "print('L2 norm: ', aL2)\n",
    "print('aLdefault norm: ', aLdefault)\n",
    "print('Max norm aMinf: ', aMinf)"
   ]
  },
  {
   "cell_type": "markdown",
   "id": "fac9376a",
   "metadata": {},
   "source": [
    "# Matrix"
   ]
  },
  {
   "cell_type": "code",
   "execution_count": 17,
   "id": "c7222c64",
   "metadata": {},
   "outputs": [
    {
     "name": "stdout",
     "output_type": "stream",
     "text": [
      "A =\n",
      " [[1 2 3]\n",
      " [4 5 6]]\n",
      "B =\n",
      " [[1 2 3]\n",
      " [4 5 6]]\n",
      "C = A + B =\n",
      " [[ 2  4  6]\n",
      " [ 8 10 12]]\n",
      "D = A - B =\n",
      " [[0 0 0]\n",
      " [0 0 0]]\n",
      "E = A * B =\n",
      " [[ 1  4  9]\n",
      " [16 25 36]]\n",
      "F = A / B =\n",
      " [[1. 1. 1.]\n",
      " [1. 1. 1.]]\n",
      "G = A // B =\n",
      " [[1 1 1]\n",
      " [1 1 1]]\n"
     ]
    }
   ],
   "source": [
    "A = np.array([\n",
    "[1, 2, 3],\n",
    "[4, 5, 6]])\n",
    "\n",
    "B = np.array([\n",
    "[1, 2, 3],\n",
    "[4, 5, 6]])\n",
    "\n",
    "C = A + B\n",
    "D = A - B\n",
    "E = A * B           # Element wise matrix multiplication\n",
    "F = A / B           # Element wise matrix division\n",
    "G = A // B\n",
    "\n",
    "print('A =\\n',A)\n",
    "print('B =\\n',B)\n",
    "print('C = A + B =\\n',C)\n",
    "print('D = A - B =\\n',D)\n",
    "print('E = A * B =\\n',E)\n",
    "print('F = A / B =\\n',F)\n",
    "print('G = A // B =\\n',G)"
   ]
  },
  {
   "cell_type": "code",
   "execution_count": 18,
   "id": "3d1bb657",
   "metadata": {},
   "outputs": [
    {
     "name": "stdout",
     "output_type": "stream",
     "text": [
      "G = A.dot(B) =\n",
      " [[ 7 10]\n",
      " [15 22]\n",
      " [23 34]]\n",
      "I = A @ B = G =\n",
      " [[ 7 10]\n",
      " [15 22]\n",
      " [23 34]]\n"
     ]
    }
   ],
   "source": [
    "A = np.array([\n",
    "[1, 2],\n",
    "[3, 4],\n",
    "[5, 6]])\n",
    "B = np.array([\n",
    "[1, 2],\n",
    "[3, 4]])\n",
    "\n",
    "G = A.dot(B)        # Matrix-Matrix Mul - NOTE: A.dot(B) != B.dot(A) ; (3x2) x (2x2) = (3x2)\n",
    "#H = B.dot(A)       # Matrix-Matrix Mul - NOTE: A.dot(B) != B.dot(A) ; (2x2) x (3x2) ==> Matrix Multiplication is not possible as shapes are not aligned\n",
    "\n",
    "I = A @ B           # Matrix-Matrix Mul - Same as G     \n",
    "\n",
    "print('G = A.dot(B) =\\n',G)\n",
    "print('I = A @ B = G =\\n',I)"
   ]
  },
  {
   "cell_type": "markdown",
   "id": "f64f5078",
   "metadata": {},
   "source": [
    "## Types of matrix\n",
    "    Square Matrix\n",
    "    Symmetric Matrix\n",
    "    Triangular\n",
    "    Diagonal\n",
    "    Identity\n",
    "    Orthogonal : QT· Q = Q · QT = I\n",
    "    Zero\n",
    "    Unity "
   ]
  },
  {
   "cell_type": "code",
   "execution_count": 19,
   "id": "f744f910",
   "metadata": {},
   "outputs": [
    {
     "name": "stdout",
     "output_type": "stream",
     "text": [
      "M = \n",
      " [[1 2 3]\n",
      " [1 2 3]\n",
      " [1 2 3]]\n"
     ]
    }
   ],
   "source": [
    "M = np.array([\n",
    "[1, 2, 3],\n",
    "[1, 2, 3],\n",
    "[1, 2, 3]])\n",
    "print('M = \\n',M)"
   ]
  },
  {
   "cell_type": "code",
   "execution_count": 20,
   "id": "e090a2db",
   "metadata": {},
   "outputs": [
    {
     "name": "stdout",
     "output_type": "stream",
     "text": [
      "Triangular Matrix\n",
      "M_upper_tri = \n",
      " [[1 2 3]\n",
      " [0 2 3]\n",
      " [0 0 3]]\n",
      "M_lwoer_tri = \n",
      " [[1 0 0]\n",
      " [1 2 0]\n",
      " [1 2 3]]\n"
     ]
    }
   ],
   "source": [
    "print('Triangular Matrix')\n",
    "\n",
    "M_upper_tri = np.triu(M)\n",
    "print('M_upper_tri = \\n',M_upper_tri)\n",
    "\n",
    "M_lwoer_tri = np.tril(M)\n",
    "print('M_lwoer_tri = \\n',M_lwoer_tri)"
   ]
  },
  {
   "cell_type": "code",
   "execution_count": 21,
   "id": "8abc990e",
   "metadata": {},
   "outputs": [
    {
     "name": "stdout",
     "output_type": "stream",
     "text": [
      "Diagonal Matrix\n",
      "d = \n",
      " [1 2 3]\n",
      "d = \n",
      " [[1 0 0]\n",
      " [0 2 0]\n",
      " [0 0 3]]\n"
     ]
    }
   ],
   "source": [
    "print('Diagonal Matrix')\n",
    "d = np.diag(M)\n",
    "print('d = \\n', d)\n",
    "\n",
    "d = np.diag(d)\n",
    "print('d = \\n', d)"
   ]
  },
  {
   "cell_type": "code",
   "execution_count": 22,
   "id": "ebea088c",
   "metadata": {},
   "outputs": [
    {
     "name": "stdout",
     "output_type": "stream",
     "text": [
      "Identity Matrix\n",
      "I5 = \n",
      " [[1. 0. 0. 0. 0.]\n",
      " [0. 1. 0. 0. 0.]\n",
      " [0. 0. 1. 0. 0.]\n",
      " [0. 0. 0. 1. 0.]\n",
      " [0. 0. 0. 0. 1.]]\n",
      "1.0\n",
      "Z54 = \n",
      " [[0. 0. 0. 0.]\n",
      " [0. 0. 0. 0.]\n",
      " [0. 0. 0. 0.]\n",
      " [0. 0. 0. 0.]\n",
      " [0. 0. 0. 0.]]\n",
      "One54 = \n",
      " [[1. 1. 1. 1.]\n",
      " [1. 1. 1. 1.]\n",
      " [1. 1. 1. 1.]\n",
      " [1. 1. 1. 1.]\n",
      " [1. 1. 1. 1.]]\n"
     ]
    }
   ],
   "source": [
    "print('Identity Matrix')\n",
    "I5= np.identity(5)\n",
    "print('I5 = \\n', I5)\n",
    "\n",
    "print(I5[3,3])\n",
    "\n",
    "print('Z54 = \\n',np.zeros([5,4]))\n",
    "\n",
    "print('One54 = \\n',np.ones([5,4]))"
   ]
  },
  {
   "cell_type": "markdown",
   "id": "cb0fc1a7",
   "metadata": {},
   "source": [
    "### Matrix Operations"
   ]
  },
  {
   "cell_type": "code",
   "execution_count": 23,
   "id": "35208c0d",
   "metadata": {},
   "outputs": [
    {
     "name": "stdout",
     "output_type": "stream",
     "text": [
      "Matrix Transpose\n",
      "A = \n",
      " [[1 2]\n",
      " [3 4]\n",
      " [5 6]]\n",
      "AT = A.T = \n",
      " [[1 3 5]\n",
      " [2 4 6]]\n"
     ]
    }
   ],
   "source": [
    "print('Matrix Transpose')\n",
    "A = np.array([\n",
    "[1, 2],\n",
    "[3, 4],\n",
    "[5, 6]])\n",
    "print('A = \\n',A)\n",
    "\n",
    "print('AT = A.T = \\n',A.T)"
   ]
  },
  {
   "cell_type": "code",
   "execution_count": 24,
   "id": "fd787ab9",
   "metadata": {},
   "outputs": [
    {
     "name": "stdout",
     "output_type": "stream",
     "text": [
      "Matrix Inverse\n",
      "A = \n",
      " [[1. 2.]\n",
      " [3. 4.]]\n",
      "Ainv = \n",
      " [[-2.   1. ]\n",
      " [ 1.5 -0.5]]\n",
      "[[1.0000000e+00 4.4408921e-16]\n",
      " [0.0000000e+00 1.0000000e+00]]\n"
     ]
    }
   ],
   "source": [
    "print('Matrix Inverse')\n",
    "A = np.array([\n",
    "[1.0, 2.0],\n",
    "[3.0, 4.0]])\n",
    "\n",
    "Ainv = np.linalg.inv(A)\n",
    "\n",
    "print('A = \\n',A)\n",
    "\n",
    "print('Ainv = \\n',Ainv)\n",
    "\n",
    "print(Ainv @ A)"
   ]
  },
  {
   "cell_type": "code",
   "execution_count": 25,
   "id": "337c16f8",
   "metadata": {},
   "outputs": [
    {
     "name": "stdout",
     "output_type": "stream",
     "text": [
      "trace(A) =  5.0\n",
      "det(A) =  -2.0000000000000004\n"
     ]
    }
   ],
   "source": [
    "A = np.array([\n",
    "[1.0, 2.0],\n",
    "[3.0, 4.0]])\n",
    "\n",
    "print('trace(A) = ',np.trace(A))\n",
    "\n",
    "print('det(A) = ',np.linalg.det(A))"
   ]
  },
  {
   "cell_type": "markdown",
   "id": "67d800c8",
   "metadata": {},
   "source": [
    "### Rank of Matrix"
   ]
  },
  {
   "cell_type": "code",
   "execution_count": 26,
   "id": "22270ddf",
   "metadata": {},
   "outputs": [
    {
     "name": "stdout",
     "output_type": "stream",
     "text": [
      "[[0 0]\n",
      " [0 0]]\n",
      "[[1 2]\n",
      " [1 2]]\n",
      "[[1 2]\n",
      " [3 4]]\n",
      "Rank(M0) =  0\n",
      "Rank(M1) =  1\n",
      "Rank(M2) =  2\n"
     ]
    }
   ],
   "source": [
    "M0 = np.array([\n",
    "[0,0],\n",
    "[0,0]])\n",
    "print(M0)\n",
    "\n",
    "M1 = np.array([\n",
    "[1,2],\n",
    "[1,2]])\n",
    "print(M1)\n",
    "\n",
    "M2 = np.array([\n",
    "[1,2],\n",
    "[3,4]])\n",
    "print(M2)\n",
    "\n",
    "print('Rank(M0) = ',np.linalg.matrix_rank(M0))\n",
    "print('Rank(M1) = ',np.linalg.matrix_rank(M1))\n",
    "print('Rank(M2) = ',np.linalg.matrix_rank(M2))"
   ]
  },
  {
   "cell_type": "markdown",
   "id": "29fbed47",
   "metadata": {},
   "source": [
    "### Tensors and Tensor Arithmetic"
   ]
  },
  {
   "cell_type": "code",
   "execution_count": 27,
   "id": "82c7e37a",
   "metadata": {},
   "outputs": [
    {
     "name": "stdout",
     "output_type": "stream",
     "text": [
      "A =  [[[ 1  2  3]\n",
      "  [ 4  5  6]\n",
      "  [ 7  8  9]]\n",
      "\n",
      " [[11 12 13]\n",
      "  [14 15 16]\n",
      "  [17 18 19]]\n",
      "\n",
      " [[21 22 23]\n",
      "  [24 25 26]\n",
      "  [27 28 29]]]\n",
      "B =  [[[ 1  2  3]\n",
      "  [ 4  5  6]\n",
      "  [ 7  8  9]]\n",
      "\n",
      " [[11 12 13]\n",
      "  [14 15 16]\n",
      "  [17 18 19]]\n",
      "\n",
      " [[21 22 23]\n",
      "  [24 25 26]\n",
      "  [27 28 29]]]\n",
      "C = A + B =  [[[ 2  4  6]\n",
      "  [ 8 10 12]\n",
      "  [14 16 18]]\n",
      "\n",
      " [[22 24 26]\n",
      "  [28 30 32]\n",
      "  [34 36 38]]\n",
      "\n",
      " [[42 44 46]\n",
      "  [48 50 52]\n",
      "  [54 56 58]]]\n",
      "D = A - B =  [[[0 0 0]\n",
      "  [0 0 0]\n",
      "  [0 0 0]]\n",
      "\n",
      " [[0 0 0]\n",
      "  [0 0 0]\n",
      "  [0 0 0]]\n",
      "\n",
      " [[0 0 0]\n",
      "  [0 0 0]\n",
      "  [0 0 0]]]\n",
      "E = A * B =  [[[  1   4   9]\n",
      "  [ 16  25  36]\n",
      "  [ 49  64  81]]\n",
      "\n",
      " [[121 144 169]\n",
      "  [196 225 256]\n",
      "  [289 324 361]]\n",
      "\n",
      " [[441 484 529]\n",
      "  [576 625 676]\n",
      "  [729 784 841]]]\n",
      "F = A / B =  [[[1. 1. 1.]\n",
      "  [1. 1. 1.]\n",
      "  [1. 1. 1.]]\n",
      "\n",
      " [[1. 1. 1.]\n",
      "  [1. 1. 1.]\n",
      "  [1. 1. 1.]]\n",
      "\n",
      " [[1. 1. 1.]\n",
      "  [1. 1. 1.]\n",
      "  [1. 1. 1.]]]\n"
     ]
    }
   ],
   "source": [
    "A = np.array([\n",
    "[[1,2,3], [4,5,6], [7,8,9]],\n",
    "[[11,12,13], [14,15,16], [17,18,19]],\n",
    "[[21,22,23], [24,25,26], [27,28,29]]])\n",
    "\n",
    "B = np.array([\n",
    "[[1,2,3], [4,5,6], [7,8,9]],\n",
    "[[11,12,13], [14,15,16], [17,18,19]],\n",
    "[[21,22,23], [24,25,26], [27,28,29]]])\n",
    "\n",
    "C = A + B\n",
    "D = A - B\n",
    "E = A * B           # Element wise matrix multiplication - Tensor Hadamard Product\n",
    "F = A / B           # Element wise matrix division\n",
    "\n",
    "print('A = ',A)\n",
    "print('B = ',B)\n",
    "print('C = A + B = ',C)\n",
    "print('D = A - B = ',D)\n",
    "print('E = A * B = ',E)\n",
    "print('F = A / B = ',F)"
   ]
  },
  {
   "cell_type": "code",
   "execution_count": 28,
   "id": "4b7d9cca",
   "metadata": {},
   "outputs": [
    {
     "name": "stdout",
     "output_type": "stream",
     "text": [
      "Tensor Product\n",
      "G = A.dot(B) = \n",
      " [[3 4]\n",
      " [6 8]]\n"
     ]
    }
   ],
   "source": [
    "A = np.array([1,2])\n",
    "B = np.array([3,4])\n",
    "\n",
    "print('Tensor Product')\n",
    "G = np.tensordot(A,B,axes=0)       \n",
    "print('G = A.dot(B) = \\n',G)"
   ]
  },
  {
   "cell_type": "markdown",
   "id": "59c03fa8",
   "metadata": {},
   "source": [
    "## Eigen decomposition\n",
    "    A vector is an eigenvector of a matrix if it satisfies the following equation\n",
    "    A · v = λ · v\n",
    "    \n",
    "    Not all square matrices can be decomposed into eigenvectors and eigenvalues\n",
    "    Some can only be decomposed in a way that requires complex numbers.\n",
    "    The parent matrix can be shown to be a product of the eigenvectors and eigenvalues\n",
    "    A = Q · Λ · Q-1\n",
    "    Q  : matrix comprised of the eigenvectors\n",
    "    Λ  : diagonal matrix comprised of the eigenvalues\n",
    "    QT : transpose of the matrix comprised of the eigenvectors"
   ]
  },
  {
   "cell_type": "code",
   "execution_count": 29,
   "id": "c883c0fb",
   "metadata": {},
   "outputs": [
    {
     "name": "stdout",
     "output_type": "stream",
     "text": [
      "A = \n",
      " [[1 2 3]\n",
      " [4 5 6]\n",
      " [7 8 9]]\n",
      "eigen_values = \n",
      " [ 1.61168440e+01 -1.11684397e+00 -3.38433605e-16]\n",
      "eigen_vectors = \n",
      " [[-0.23197069 -0.78583024  0.40824829]\n",
      " [-0.52532209 -0.08675134 -0.81649658]\n",
      " [-0.8186735   0.61232756  0.40824829]]\n",
      "reconstructed_A = \n",
      " [[1. 2. 3.]\n",
      " [4. 5. 6.]\n",
      " [7. 8. 9.]]\n"
     ]
    }
   ],
   "source": [
    "A = np.array([\n",
    "[1, 2, 3],\n",
    "[4, 5, 6],\n",
    "[7, 8, 9]])\n",
    "\n",
    "print('A = \\n',A)\n",
    "\n",
    "eigen_values, eigen_vectors = np.linalg.eig(A)\n",
    "\n",
    "print('eigen_values = \\n',eigen_values)\n",
    "print('eigen_vectors = \\n',eigen_vectors)\n",
    "\n",
    "Q = eigen_vectors\n",
    "Λ = np.diag(eigen_values)\n",
    "Qinv = np.linalg.inv(Q)\n",
    "\n",
    "reconstructed_A = Q @ Λ @ Qinv\n",
    "print('reconstructed_A = \\n',reconstructed_A)"
   ]
  },
  {
   "cell_type": "markdown",
   "id": "e026f449",
   "metadata": {},
   "source": [
    "### SVD : Singular-Value Decomposition\n",
    "    A = U · Σ · VT\n",
    "    \n",
    "https://www.youtube.com/playlist?list=PLMrJAkhIeNNSVjnsviglFoY2nXildDCcv"
   ]
  },
  {
   "cell_type": "code",
   "execution_count": 30,
   "id": "2b90f270",
   "metadata": {},
   "outputs": [
    {
     "name": "stdout",
     "output_type": "stream",
     "text": [
      "A = \n",
      " [[1 2 3]\n",
      " [4 5 6]\n",
      " [7 8 9]]\n",
      "U = \n",
      " [[-0.21483724  0.88723069  0.40824829]\n",
      " [-0.52058739  0.24964395 -0.81649658]\n",
      " [-0.82633754 -0.38794278  0.40824829]]\n",
      "s = \n",
      " [1.68481034e+01 1.06836951e+00 3.33475287e-16]\n",
      "V = \n",
      " [[-0.47967118 -0.57236779 -0.66506441]\n",
      " [-0.77669099 -0.07568647  0.62531805]\n",
      " [-0.40824829  0.81649658 -0.40824829]]\n",
      "S = \n",
      " [[1.68481034e+01 0.00000000e+00 0.00000000e+00]\n",
      " [0.00000000e+00 1.06836951e+00 0.00000000e+00]\n",
      " [0.00000000e+00 0.00000000e+00 3.33475287e-16]]\n",
      "reconstructed_A = \n",
      " [[1. 2. 3.]\n",
      " [4. 5. 6.]\n",
      " [7. 8. 9.]]\n"
     ]
    }
   ],
   "source": [
    "A = np.array([\n",
    "[1, 2, 3],\n",
    "[4, 5, 6],\n",
    "[7, 8, 9]])\n",
    "print('A = \\n',A)\n",
    "\n",
    "U,s,V = np.linalg.svd(A)\n",
    "\n",
    "print('U = \\n',U)\n",
    "print('s = \\n',s)\n",
    "print('V = \\n',V)\n",
    "\n",
    "S = np.diag(s)\n",
    "print('S = \\n',S)\n",
    "\n",
    "reconstructed_A = U @ S @ V\n",
    "print('reconstructed_A = \\n',reconstructed_A)"
   ]
  },
  {
   "attachments": {
    "image.png": {
     "image/png": "[encoded data removed]"
    }
   },
   "cell_type": "markdown",
   "id": "e7a18114",
   "metadata": {},
   "source": [
    "## Covariance and Correlation\n",
    "    Covariance describes how the two variables change together.\n",
    "    The sign of the covariance can be interpreted as whether the two variables increase together (positive) or decrease together (negative).\n",
    "    The magnitude of the covariance is not easily interpreted. A covariance value of zero indicates that both variables are completely independent.\n",
    "    \n",
    " **cov(X, Y) = E[(X − E[X]) × (Y − E[Y])]**\n",
    " \n",
    "    The covariance can be normalized to a score between -1 and 1 to make the magnitude interpretable by dividing it by the standard deviation of X and Y.\n",
    "![image.png](attachment:image.png)    \n",
    "\n",
    "    r is the correlation coefficient of X and Y\n",
    "    cov(X, Y) is the sample covariance\n",
    "    sX and sY are the standard deviations of X and Y respectively"
   ]
  },
  {
   "cell_type": "code",
   "execution_count": 31,
   "id": "f34f1bec",
   "metadata": {
    "scrolled": false
   },
   "outputs": [
    {
     "name": "stdout",
     "output_type": "stream",
     "text": [
      "[[ 7.5 -7.5]\n",
      " [-7.5  7.5]]\n",
      "-7.5\n",
      "[[ 1. -1.]\n",
      " [-1.  1.]]\n",
      "-1.0\n"
     ]
    }
   ],
   "source": [
    "x = np.array([1,2,3,4,5,6,7,8,9])\n",
    "y = np.array([9,8,7,6,5,4,3,2,1])\n",
    "\n",
    "c_x_y = np.cov(x,y)\n",
    "print(c_x_y)\n",
    "\n",
    "print(c_x_y[0,1])\n",
    "\n",
    "r = np.corrcoef(x,y)\n",
    "print(r)\n",
    "print(r[0,1])"
   ]
  },
  {
   "cell_type": "code",
   "execution_count": null,
   "id": "4cd7ee49",
   "metadata": {},
   "outputs": [],
   "source": []
  }
 ],
 "metadata": {
  "kernelspec": {
   "display_name": "Python 3 (ipykernel)",
   "language": "python",
   "name": "python3"
  },
  "language_info": {
   "codemirror_mode": {
    "name": "ipython",
    "version": 3
   },
   "file_extension": ".py",
   "mimetype": "text/x-python",
   "name": "python",
   "nbconvert_exporter": "python",
   "pygments_lexer": "ipython3",
   "version": "3.9.13"
  }
 },
 "nbformat": 4,
 "nbformat_minor": 5
}
